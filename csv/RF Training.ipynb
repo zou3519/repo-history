{
 "cells": [
  {
   "cell_type": "code",
   "execution_count": 2,
   "metadata": {
    "collapsed": false
   },
   "outputs": [],
   "source": [
    "from sklearn.datasets import load_iris\n",
    "from sklearn.ensemble import RandomForestClassifier\n",
    "import scipy.spatial.distance as distance\n",
    "import pandas as pd\n",
    "import numpy as np"
   ]
  },
  {
   "cell_type": "code",
   "execution_count": 29,
   "metadata": {
    "collapsed": false
   },
   "outputs": [],
   "source": [
    "df = pd.read_csv('test3.csv')\n",
    "df['buggy'] = (df['rating'] > 0)*1\n",
    "df['is_train'] = np.random.uniform(0, 1, len(df)) <= 0.7\n",
    "train, test = df[df['is_train']==True], df[df['is_train']==False]"
   ]
  },
  {
   "cell_type": "code",
   "execution_count": 75,
   "metadata": {
    "collapsed": false
   },
   "outputs": [
    {
     "name": "stdout",
     "output_type": "stream",
     "text": [
      "SimpleScoreModel_BasicDistanceModel\n",
      "LongestScoreModel_BasicDistanceModel\n",
      "ShortestScoreModel_BasicDistanceModel\n",
      "InEdgesScoreModel_BasicDistanceModel\n",
      "OutEdgesScoreModel_BasicDistanceModel\n",
      "SizeScoreModel_BasicDistanceModel\n",
      "TimeWeightedScoreModel_BasicDistanceModel\n",
      "SimpleScoreModel_GitDiffDistModel\n",
      "LongestScoreModel_GitDiffDistModel\n",
      "ShortestScoreModel_GitDiffDistModel\n",
      "InEdgesScoreModel_GitDiffDistModel\n",
      "OutEdgesScoreModel_GitDiffDistModel\n",
      "TimeWeightedScoreModel_GitDiffDistModel\n",
      "SimpleScoreModel_MossDistModel\n",
      "LongestScoreModel_MossDistModel\n",
      "ShortestScoreModel_MossDistModel\n",
      "InEdgesScoreModel_MossDistModel\n",
      "OutEdgesScoreModel_MossDistModel\n",
      "TimeWeightedScoreModel_MossDistModel\n",
      "SimpleScoreModel_PatientDiffDistModel\n",
      "LongestScoreModel_PatientDiffDistModel\n",
      "ShortestScoreModel_PatientDiffDistModel\n",
      "InEdgesScoreModel_PatientDiffDistModel\n",
      "OutEdgesScoreModel_PatientDiffDistModel\n",
      "TimeWeightedScoreModel_PatientDiffDistModel\n"
     ]
    }
   ],
   "source": [
    "features = df.columns[1:]\n",
    "# features = np.array(['OutEdgesScoreModel_PatientDiffDistModel', \n",
    "#                      'InEdgesScoreModel_GitDiffDistModel',\n",
    "#                      'OutEdgesScoreModel_GitDiffDistModel', \n",
    "#                      'InEdgesScoreModel_PatientDiffDistModel',\n",
    "#                      'InEdgesScoreModel_MossDistModel'])\n",
    "# features = np.array(['OutEdgesScoreModel_BasicDistanceModel', \n",
    "#                      'LongestScoreModel_BasicDistanceModel',\n",
    "#                      'ShortestScoreModel_BasicDistanceModel', \n",
    "#                      'SimpleScoreModel_BasicDistanceModel',\n",
    "#                      'InEdgesScoreModel_BasicDistanceModel'])\n",
    "exclude = ['rating', 'is_train', 'buggy',\n",
    "           'SizeScoreModel_GitDiffDistModel', \n",
    "           'SizeScoreModel_MossDistModel',\n",
    "           'SizeScoreModel_PatientDiffDistModel']\n",
    "for ex in exclude:\n",
    "    features = features[features != ex]\n",
    "for feature in features:\n",
    "    print feature"
   ]
  },
  {
   "cell_type": "code",
   "execution_count": 78,
   "metadata": {
    "collapsed": false
   },
   "outputs": [
    {
     "name": "stdout",
     "output_type": "stream",
     "text": [
      "0.508816120907\n",
      "0.999603567889\n",
      "0.994147625448\n"
     ]
    }
   ],
   "source": [
    "clf = RandomForestClassifier(n_jobs=8)\n",
    "y, _ = pd.factorize(train['buggy'])\n",
    "clf.fit(train[features], y)\n",
    "\n",
    "preds = clf.predict(test[features])\n",
    "actual, _ = pd.factorize(test['buggy'])\n",
    "def percent_bugs_ided(preds, actual):\n",
    "    correct = 0.\n",
    "    for i in xrange(0, len(preds)):\n",
    "        if actual[i] == 1 and preds[i] == 1:\n",
    "            correct += 1\n",
    "    return correct/sum(actual)\n",
    "def percent_normal_ided(preds, actual):\n",
    "    correct = 0.\n",
    "    for i in xrange(0, len(preds)):\n",
    "        if actual[i] == 0 and preds[i] == 0:\n",
    "            correct += 1\n",
    "#     return len(actual) - correct\n",
    "    return correct/(len(actual) - sum(actual))\n",
    "def overall_accuracy(preds, actual):\n",
    "    num_correct = np.sum(preds == actual)\n",
    "    return num_correct*1./len(preds)\n",
    "\n",
    "num_correct = np.sum(preds == actual)\n",
    "\n",
    "print percent_bugs_ided(preds, actual)\n",
    "print percent_normal_ided(preds, actual)\n",
    "print overall_accuracy(preds, actual)\n"
   ]
  },
  {
   "cell_type": "code",
   "execution_count": 79,
   "metadata": {
    "collapsed": false,
    "scrolled": true
   },
   "outputs": [
    {
     "name": "stdout",
     "output_type": "stream",
     "text": [
      "OutEdgesScoreModel\\_PatientDiffDistModel & 0.107398 \\\\\n",
      "InEdgesScoreModel\\_MyerDiffDistModel & 0.093870 \\\\\n",
      "InEdgesScoreModel\\_PatientDiffDistModel & 0.088534 \\\\\n",
      "OutEdgesScoreModel\\_MyerDiffDistModel & 0.081350 \\\\\n",
      "InEdgesScoreModel\\_MossDistModel & 0.067363 \\\\\n",
      "LongestScoreModel\\_PatientDiffDistModel & 0.042188 \\\\\n",
      "ShortestScoreModel\\_PatientDiffDistModel & 0.040957 \\\\\n",
      "OutEdgesScoreModel\\_MossDistModel & 0.040382 \\\\\n",
      "TimeWeightedScoreModel\\_BasicDistanceModel & 0.038101 \\\\\n",
      "ShortestScoreModel\\_MyerDiffDistModel & 0.036612 \\\\\n",
      "LongestScoreModel\\_MyerDiffDistModel & 0.034777 \\\\\n",
      "TimeWeightedScoreModel\\_MyerDiffDistModel & 0.033160 \\\\\n",
      "SimpleScoreModel\\_PatientDiffDistModel & 0.032899 \\\\\n",
      "SimpleScoreModel\\_MyerDiffDistModel & 0.031872 \\\\\n",
      "SimpleScoreModel\\_MossDistModel & 0.028394 \\\\\n",
      "TimeWeightedScoreModel\\_PatientDiffDistModel & 0.027836 \\\\\n",
      "ShortestScoreModel\\_MossDistModel & 0.027438 \\\\\n",
      "InEdgesScoreModel\\_BasicDistanceModel & 0.025493 \\\\\n",
      "SimpleScoreModel\\_BasicDistanceModel & 0.025124 \\\\\n",
      "LongestScoreModel\\_MossDistModel & 0.024322 \\\\\n",
      "TimeWeightedScoreModel\\_MossDistModel & 0.024175 \\\\\n",
      "SizeScoreModel\\_BasicDistanceModel & 0.023821 \\\\\n",
      "LongestScoreModel\\_BasicDistanceModel & 0.015228 \\\\\n",
      "ShortestScoreModel\\_BasicDistanceModel & 0.006431 \\\\\n",
      "OutEdgesScoreModel\\_BasicDistanceModel & 0.002276 \\\\\n"
     ]
    }
   ],
   "source": [
    "impt = sorted(zip(features, clf.feature_importances_), key = lambda x: -x[1])\n",
    "for line in impt:\n",
    "    print \"%s & %f \\\\\\\\\" % \\\n",
    "        (line[0].replace(\"_\", \"\\_\").replace(\"Git\", \"Myer\"), \n",
    "         line[1])"
   ]
  },
  {
   "cell_type": "code",
   "execution_count": 80,
   "metadata": {
    "collapsed": false
   },
   "outputs": [
    {
     "name": "stdout",
     "output_type": "stream",
     "text": [
      "OutEdgesScoreModel_PatientDiffDistModel & 0.107398 \\\\\n",
      "InEdgesScoreModel_GitDiffDistModel & 0.093870 \\\\\n",
      "InEdgesScoreModel_PatientDiffDistModel & 0.088534 \\\\\n",
      "OutEdgesScoreModel_GitDiffDistModel & 0.081350 \\\\\n",
      "InEdgesScoreModel_MossDistModel & 0.067363 \\\\\n",
      "LongestScoreModel_PatientDiffDistModel & 0.042188 \\\\\n",
      "ShortestScoreModel_PatientDiffDistModel & 0.040957 \\\\\n",
      "OutEdgesScoreModel_MossDistModel & 0.040382 \\\\\n",
      "TimeWeightedScoreModel_BasicDistanceModel & 0.038101 \\\\\n",
      "ShortestScoreModel_GitDiffDistModel & 0.036612 \\\\\n",
      "LongestScoreModel_GitDiffDistModel & 0.034777 \\\\\n",
      "TimeWeightedScoreModel_GitDiffDistModel & 0.033160 \\\\\n",
      "SimpleScoreModel_PatientDiffDistModel & 0.032899 \\\\\n",
      "SimpleScoreModel_GitDiffDistModel & 0.031872 \\\\\n",
      "SimpleScoreModel_MossDistModel & 0.028394 \\\\\n",
      "TimeWeightedScoreModel_PatientDiffDistModel & 0.027836 \\\\\n",
      "ShortestScoreModel_MossDistModel & 0.027438 \\\\\n",
      "InEdgesScoreModel_BasicDistanceModel & 0.025493 \\\\\n",
      "SimpleScoreModel_BasicDistanceModel & 0.025124 \\\\\n",
      "LongestScoreModel_MossDistModel & 0.024322 \\\\\n",
      "TimeWeightedScoreModel_MossDistModel & 0.024175 \\\\\n",
      "SizeScoreModel_BasicDistanceModel & 0.023821 \\\\\n",
      "LongestScoreModel_BasicDistanceModel & 0.015228 \\\\\n",
      "ShortestScoreModel_BasicDistanceModel & 0.006431 \\\\\n",
      "OutEdgesScoreModel_BasicDistanceModel & 0.002276 \\\\\n"
     ]
    }
   ],
   "source": [
    "impt = sorted(zip(features, clf.feature_importances_), key = lambda x: -x[1])\n",
    "for line in impt:\n",
    "    print \"%s & %f \\\\\\\\\" % \\\n",
    "        (line[0], \n",
    "         line[1])"
   ]
  },
  {
   "cell_type": "code",
   "execution_count": 7,
   "metadata": {
    "collapsed": false
   },
   "outputs": [
    {
     "data": {
      "text/plain": [
       "0.011017115876450915"
      ]
     },
     "execution_count": 7,
     "metadata": {},
     "output_type": "execute_result"
    }
   ],
   "source": [
    "sum(actual)*1./len(actual)"
   ]
  },
  {
   "cell_type": "code",
   "execution_count": 88,
   "metadata": {
    "collapsed": false
   },
   "outputs": [
    {
     "data": {
      "text/plain": [
       "1307"
      ]
     },
     "execution_count": 88,
     "metadata": {},
     "output_type": "execute_result"
    }
   ],
   "source": [
    "\n",
    "np.sum(df['rating'] > 0)"
   ]
  },
  {
   "cell_type": "code",
   "execution_count": 114,
   "metadata": {
    "collapsed": false
   },
   "outputs": [
    {
     "data": {
      "text/plain": [
       "Index([u'ShortestScoreModel_GitDiffDistModel',\n",
       "       u'InEdgesScoreModel_GitDiffDistModel',\n",
       "       u'OutEdgesScoreModel_GitDiffDistModel',\n",
       "       u'SizeScoreModel_GitDiffDistModel',\n",
       "       u'TimeWeightedScoreModel_GitDiffDistModel',\n",
       "       u'SimpleScoreModel_MossDistModel'],\n",
       "      dtype='object')"
      ]
     },
     "execution_count": 114,
     "metadata": {},
     "output_type": "execute_result"
    }
   ],
   "source": [
    "df.columns[10:16]"
   ]
  },
  {
   "cell_type": "code",
   "execution_count": 79,
   "metadata": {
    "collapsed": false
   },
   "outputs": [
    {
     "data": {
      "text/plain": [
       "Index([u'SimpleScoreModel_BasicDistanceModel',\n",
       "       u'LongestScoreModel_BasicDistanceModel',\n",
       "       u'ShortestScoreModel_BasicDistanceModel',\n",
       "       u'InEdgesScoreModel_BasicDistanceModel',\n",
       "       u'OutEdgesScoreModel_BasicDistanceModel',\n",
       "       u'SizeScoreModel_BasicDistanceModel',\n",
       "       u'TimeWeightedScoreModel_BasicDistanceModel',\n",
       "       u'SimpleScoreModel_GitDiffDistModel',\n",
       "       u'LongestScoreModel_GitDiffDistModel',\n",
       "       u'ShortestScoreModel_GitDiffDistModel',\n",
       "       u'InEdgesScoreModel_GitDiffDistModel',\n",
       "       u'OutEdgesScoreModel_GitDiffDistModel',\n",
       "       u'SizeScoreModel_GitDiffDistModel',\n",
       "       u'TimeWeightedScoreModel_GitDiffDistModel',\n",
       "       u'SimpleScoreModel_MossDistModel', u'LongestScoreModel_MossDistModel',\n",
       "       u'ShortestScoreModel_MossDistModel', u'InEdgesScoreModel_MossDistModel',\n",
       "       u'OutEdgesScoreModel_MossDistModel', u'SizeScoreModel_MossDistModel',\n",
       "       u'TimeWeightedScoreModel_MossDistModel'],\n",
       "      dtype='object')"
      ]
     },
     "execution_count": 79,
     "metadata": {},
     "output_type": "execute_result"
    }
   ],
   "source": [
    "df.columns[1:22]"
   ]
  },
  {
   "cell_type": "code",
   "execution_count": 26,
   "metadata": {
    "collapsed": false
   },
   "outputs": [
    {
     "name": "stdout",
     "output_type": "stream",
     "text": [
      "118605\n",
      "1307\n"
     ]
    }
   ],
   "source": [
    "print len(df)\n",
    "print sum(df['buggy'])"
   ]
  },
  {
   "cell_type": "code",
   "execution_count": null,
   "metadata": {
    "collapsed": true
   },
   "outputs": [],
   "source": []
  }
 ],
 "metadata": {
  "anaconda-cloud": {},
  "kernelspec": {
   "display_name": "Python [conda root]",
   "language": "python",
   "name": "conda-root-py"
  },
  "language_info": {
   "codemirror_mode": {
    "name": "ipython",
    "version": 2
   },
   "file_extension": ".py",
   "mimetype": "text/x-python",
   "name": "python",
   "nbconvert_exporter": "python",
   "pygments_lexer": "ipython2",
   "version": "2.7.12"
  }
 },
 "nbformat": 4,
 "nbformat_minor": 2
}

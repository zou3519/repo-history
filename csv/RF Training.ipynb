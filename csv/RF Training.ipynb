{
 "cells": [
  {
   "cell_type": "code",
   "execution_count": 16,
   "metadata": {
    "collapsed": false
   },
   "outputs": [],
   "source": [
    "from sklearn.datasets import load_iris\n",
    "from sklearn.ensemble import RandomForestClassifier\n",
    "import scipy.spatial.distance as distance\n",
    "import pandas as pd\n",
    "import numpy as np\n",
    "\n",
    "distmodels = [\"BasicDistanceModel\", \"GitDiffDistModel\", \n",
    "              \"MossDistModel\", \"PatientDiffDistModel\"]\n",
    "scoremodels = [\"SimpleScoreModel\", \"LongestScoreModel\", \n",
    "               \"ShortestScoreModel\", \"InEdgesScoreModel\",\n",
    "               \"OutEdgesScoreModel\", \"SizeScoreModel\", \n",
    "               \"TimeWeightedScoreModel\"]\n",
    "\n",
    "models_inedges = ['InEdgesScoreModel_' + dm for dm in distmodels]"
   ]
  },
  {
   "cell_type": "code",
   "execution_count": 3,
   "metadata": {
    "collapsed": false
   },
   "outputs": [],
   "source": [
    "df = pd.read_csv('test4.csv')\n",
    "df['buggy'] = (df['rating'] > 0)*1\n",
    "df['is_train'] = np.random.uniform(0, 1, len(df)) <= 0.7\n",
    "train, test = df[df['is_train']==True], df[df['is_train']==False]"
   ]
  },
  {
   "cell_type": "code",
   "execution_count": 75,
   "metadata": {
    "collapsed": false,
    "scrolled": true
   },
   "outputs": [
    {
     "name": "stdout",
     "output_type": "stream",
     "text": [
      "SizeScoreModel_BasicDistanceModel\n"
     ]
    }
   ],
   "source": [
    "features = df.columns[1:]\n",
    "features = np.array(['SizeScoreModel_BasicDistanceModel'])\n",
    "# features = np.array(['SizeScoreModel_BasicDistanceModel','OutEdgesScoreModel_GitDiffDistModel','ShortestScoreModel_GitDiffDistModel','OutEdgesScoreModel_PatientDiffDistModel','SimpleScoreModel_GitDiffDistModel'])\n",
    "# features = np.array(['SimpleScoreModel_BasicDistanceModel','SimpleScoreModel_MossDistModel','LongestScoreModel_BasicDistanceModel','ShortestScoreModel_BasicDistanceModel','OutEdgesScoreModel_BasicDistanceModel'])\n",
    "exclude = ['rating', 'is_train', 'buggy',\n",
    "           'SizeScoreModel_GitDiffDistModel', \n",
    "           'SizeScoreModel_MossDistModel',\n",
    "           'SizeScoreModel_PatientDiffDistModel']\n",
    "exclude.extend(models_inedges)\n",
    "for ex in exclude:\n",
    "    features = features[features != ex]\n",
    "for feature in features:\n",
    "    print feature"
   ]
  },
  {
   "cell_type": "code",
   "execution_count": 81,
   "metadata": {
    "collapsed": false
   },
   "outputs": [
    {
     "name": "stdout",
     "output_type": "stream",
     "text": [
      "0.0129310344828\n",
      "0.999858232442\n",
      "0.993408636376\n"
     ]
    }
   ],
   "source": [
    "clf = RandomForestClassifier(n_jobs=8)\n",
    "y, _ = pd.factorize(train['buggy'])\n",
    "clf.fit(train[features], y)\n",
    "\n",
    "preds = clf.predict(test[features])\n",
    "actual, _ = pd.factorize(test['buggy'])\n",
    "def percent_bugs_ided(preds, actual):\n",
    "    correct = 0.\n",
    "    for i in xrange(0, len(preds)):\n",
    "        if actual[i] == 1 and preds[i] == 1:\n",
    "            correct += 1\n",
    "    return correct/sum(actual)\n",
    "def percent_normal_ided(preds, actual):\n",
    "    correct = 0.\n",
    "    for i in xrange(0, len(preds)):\n",
    "        if actual[i] == 0 and preds[i] == 0:\n",
    "            correct += 1\n",
    "#     return len(actual) - correct\n",
    "    return correct/(len(actual) - sum(actual))\n",
    "def overall_accuracy(preds, actual):\n",
    "    num_correct = np.sum(preds == actual)\n",
    "    return num_correct*1./len(preds)\n",
    "\n",
    "num_correct = np.sum(preds == actual)\n",
    "\n",
    "print percent_bugs_ided(preds, actual)\n",
    "print percent_normal_ided(preds, actual)\n",
    "print overall_accuracy(preds, actual)\n"
   ]
  },
  {
   "cell_type": "code",
   "execution_count": 78,
   "metadata": {
    "collapsed": false,
    "scrolled": true
   },
   "outputs": [
    {
     "name": "stdout",
     "output_type": "stream",
     "text": [
      "PatchLen & 1.000000 \\\\\n"
     ]
    }
   ],
   "source": [
    "impt = sorted(zip(features, clf.feature_importances_), key = lambda x: -x[1])\n",
    "def change_name(name):\n",
    "    return name \\\n",
    "        .replace(\"SizeScoreModel_BasicDistanceModel\", \"SizeScoreModel\") \\\n",
    "        .replace(\"_\", \"\\_\") \\\n",
    "        .replace(\"Git\", \"Myer\") \\\n",
    "        .replace(\"ScoreModel\", \"\") \\\n",
    "        .replace(\"DistModel\", \"Dist\") \\\n",
    "        .replace(\"BasicDistanceModel\", \"UnitDist\") \\\n",
    "        .replace(\"TimeWeighted\", \"TimeWeightAvePath\") \\\n",
    "        .replace(\"Shortest\", \"MinPath\") \\\n",
    "        .replace(\"Longest\", \"MaxPath\") \\\n",
    "        .replace(\"Size\", \"PatchLen\") \\\n",
    "        .replace(\"Edges\", \"EdgesSum\") \\\n",
    "        .replace(\"Simple\", \"AvePath\")\n",
    "    \n",
    "for line in impt:\n",
    "    print \"%s & %f \\\\\\\\\" % \\\n",
    "        (change_name(line[0]), \n",
    "         line[1])"
   ]
  },
  {
   "cell_type": "code",
   "execution_count": 70,
   "metadata": {
    "collapsed": false
   },
   "outputs": [
    {
     "data": {
      "text/plain": [
       "\"'SizeScoreModel_BasicDistanceModel','OutEdgesScoreModel_GitDiffDistModel','ShortestScoreModel_GitDiffDistModel','OutEdgesScoreModel_PatientDiffDistModel','SimpleScoreModel_GitDiffDistModel','ShortestScoreModel_PatientDiffDistModel','TimeWeightedScoreModel_PatientDiffDistModel','SimpleScoreModel_PatientDiffDistModel','TimeWeightedScoreModel_BasicDistanceModel','TimeWeightedScoreModel_MossDistModel','LongestScoreModel_GitDiffDistModel','TimeWeightedScoreModel_GitDiffDistModel','OutEdgesScoreModel_MossDistModel','LongestScoreModel_PatientDiffDistModel','ShortestScoreModel_MossDistModel','LongestScoreModel_MossDistModel','SimpleScoreModel_BasicDistanceModel','SimpleScoreModel_MossDistModel','LongestScoreModel_BasicDistanceModel','ShortestScoreModel_BasicDistanceModel','OutEdgesScoreModel_BasicDistanceModel'\""
      ]
     },
     "execution_count": 70,
     "metadata": {},
     "output_type": "execute_result"
    }
   ],
   "source": [
    "impt = sorted(zip(features, clf.feature_importances_), key = lambda x: -x[1])\n",
    "models = zip(*impt)[0]\n",
    "names = map(lambda s: \"'%s'\" % s, models)\n",
    "','.join(names)"
   ]
  },
  {
   "cell_type": "code",
   "execution_count": 7,
   "metadata": {
    "collapsed": false
   },
   "outputs": [
    {
     "data": {
      "text/plain": [
       "0.011017115876450915"
      ]
     },
     "execution_count": 7,
     "metadata": {},
     "output_type": "execute_result"
    }
   ],
   "source": [
    "sum(actual)*1./len(actual)"
   ]
  },
  {
   "cell_type": "code",
   "execution_count": 48,
   "metadata": {
    "collapsed": false
   },
   "outputs": [
    {
     "data": {
      "text/plain": [
       "[('SizeScoreModel_BasicDistanceModel',\n",
       "  'OutEdgesScoreModel_GitDiffDistModel',\n",
       "  'OutEdgesScoreModel_PatientDiffDistModel',\n",
       "  'ShortestScoreModel_PatientDiffDistModel',\n",
       "  'TimeWeightedScoreModel_GitDiffDistModel',\n",
       "  'ShortestScoreModel_GitDiffDistModel',\n",
       "  'SimpleScoreModel_GitDiffDistModel',\n",
       "  'TimeWeightedScoreModel_MossDistModel',\n",
       "  'LongestScoreModel_PatientDiffDistModel',\n",
       "  'LongestScoreModel_GitDiffDistModel',\n",
       "  'SimpleScoreModel_PatientDiffDistModel',\n",
       "  'TimeWeightedScoreModel_PatientDiffDistModel',\n",
       "  'TimeWeightedScoreModel_BasicDistanceModel',\n",
       "  'ShortestScoreModel_MossDistModel',\n",
       "  'OutEdgesScoreModel_MossDistModel',\n",
       "  'LongestScoreModel_MossDistModel',\n",
       "  'SimpleScoreModel_MossDistModel',\n",
       "  'SimpleScoreModel_BasicDistanceModel',\n",
       "  'LongestScoreModel_BasicDistanceModel',\n",
       "  'ShortestScoreModel_BasicDistanceModel',\n",
       "  'OutEdgesScoreModel_BasicDistanceModel'),\n",
       " (0.096456986331355077,\n",
       "  0.071530542516494364,\n",
       "  0.068879113480828674,\n",
       "  0.066720901183964204,\n",
       "  0.064443365797795499,\n",
       "  0.057271832654821254,\n",
       "  0.051491416516154812,\n",
       "  0.050083084542224696,\n",
       "  0.048900918807743027,\n",
       "  0.04737944062162399,\n",
       "  0.046873287230445662,\n",
       "  0.04586813859214528,\n",
       "  0.043521183330315662,\n",
       "  0.042101413657764333,\n",
       "  0.041853757684747542,\n",
       "  0.039796700028219258,\n",
       "  0.039712678219890968,\n",
       "  0.037868563061729768,\n",
       "  0.018940077734830287,\n",
       "  0.011444249806863529,\n",
       "  0.0088623482000420705)]"
      ]
     },
     "execution_count": 48,
     "metadata": {},
     "output_type": "execute_result"
    }
   ],
   "source": [
    "zip(*impt)"
   ]
  },
  {
   "cell_type": "code",
   "execution_count": 114,
   "metadata": {
    "collapsed": false
   },
   "outputs": [
    {
     "data": {
      "text/plain": [
       "Index([u'ShortestScoreModel_GitDiffDistModel',\n",
       "       u'InEdgesScoreModel_GitDiffDistModel',\n",
       "       u'OutEdgesScoreModel_GitDiffDistModel',\n",
       "       u'SizeScoreModel_GitDiffDistModel',\n",
       "       u'TimeWeightedScoreModel_GitDiffDistModel',\n",
       "       u'SimpleScoreModel_MossDistModel'],\n",
       "      dtype='object')"
      ]
     },
     "execution_count": 114,
     "metadata": {},
     "output_type": "execute_result"
    }
   ],
   "source": [
    "df.columns[10:16]"
   ]
  },
  {
   "cell_type": "code",
   "execution_count": 79,
   "metadata": {
    "collapsed": false
   },
   "outputs": [
    {
     "data": {
      "text/plain": [
       "Index([u'SimpleScoreModel_BasicDistanceModel',\n",
       "       u'LongestScoreModel_BasicDistanceModel',\n",
       "       u'ShortestScoreModel_BasicDistanceModel',\n",
       "       u'InEdgesScoreModel_BasicDistanceModel',\n",
       "       u'OutEdgesScoreModel_BasicDistanceModel',\n",
       "       u'SizeScoreModel_BasicDistanceModel',\n",
       "       u'TimeWeightedScoreModel_BasicDistanceModel',\n",
       "       u'SimpleScoreModel_GitDiffDistModel',\n",
       "       u'LongestScoreModel_GitDiffDistModel',\n",
       "       u'ShortestScoreModel_GitDiffDistModel',\n",
       "       u'InEdgesScoreModel_GitDiffDistModel',\n",
       "       u'OutEdgesScoreModel_GitDiffDistModel',\n",
       "       u'SizeScoreModel_GitDiffDistModel',\n",
       "       u'TimeWeightedScoreModel_GitDiffDistModel',\n",
       "       u'SimpleScoreModel_MossDistModel', u'LongestScoreModel_MossDistModel',\n",
       "       u'ShortestScoreModel_MossDistModel', u'InEdgesScoreModel_MossDistModel',\n",
       "       u'OutEdgesScoreModel_MossDistModel', u'SizeScoreModel_MossDistModel',\n",
       "       u'TimeWeightedScoreModel_MossDistModel'],\n",
       "      dtype='object')"
      ]
     },
     "execution_count": 79,
     "metadata": {},
     "output_type": "execute_result"
    }
   ],
   "source": [
    "df.columns[1:22]"
   ]
  },
  {
   "cell_type": "code",
   "execution_count": 26,
   "metadata": {
    "collapsed": false
   },
   "outputs": [
    {
     "name": "stdout",
     "output_type": "stream",
     "text": [
      "118605\n",
      "1307\n"
     ]
    }
   ],
   "source": [
    "print len(df)\n",
    "print sum(df['buggy'])"
   ]
  },
  {
   "cell_type": "code",
   "execution_count": null,
   "metadata": {
    "collapsed": true
   },
   "outputs": [],
   "source": []
  }
 ],
 "metadata": {
  "anaconda-cloud": {},
  "kernelspec": {
   "display_name": "Python [conda root]",
   "language": "python",
   "name": "conda-root-py"
  },
  "language_info": {
   "codemirror_mode": {
    "name": "ipython",
    "version": 2
   },
   "file_extension": ".py",
   "mimetype": "text/x-python",
   "name": "python",
   "nbconvert_exporter": "python",
   "pygments_lexer": "ipython2",
   "version": "2.7.12"
  }
 },
 "nbformat": 4,
 "nbformat_minor": 2
}

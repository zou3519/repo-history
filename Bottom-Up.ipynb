{
 "cells": [
  {
   "cell_type": "code",
   "execution_count": 1,
   "metadata": {
    "collapsed": false
   },
   "outputs": [
    {
     "name": "stdout",
     "output_type": "stream",
     "text": [
      "Using MOSS_PATH=/home/cat/rzou/mosslocal/\n",
      "USING MOSS_PATH=/mnt/ramdisk/mosstmp/\n"
     ]
    }
   ],
   "source": [
    "from examinebugs import examine_rev\n",
    "\n",
    "distmodels = [\"BasicDistanceModel\", \"GitDiffDistModel\", \n",
    "              \"MossDistModel\", \"PatientDiffDistModel\"]\n",
    "scoremodels = [\"SimpleScoreModel\", \"LongestScoreModel\", \n",
    "               \"ShortestScoreModel\", \"InEdgesScoreModel\",\n",
    "               \"OutEdgesScoreModel\", \"SizeScoreModel\", \n",
    "               \"TimeWeightedScoreModel\"]"
   ]
  },
  {
   "cell_type": "code",
   "execution_count": 2,
   "metadata": {
    "collapsed": false
   },
   "outputs": [
    {
     "name": "stdout",
     "output_type": "stream",
     "text": [
      "Read patch models\n"
     ]
    }
   ],
   "source": [
    "buggy_dict = examine_rev(\n",
    "    '/home/cat/rzou/linux', 'mm', 'mm', \n",
    "    distmodels[3], scoremodels[4],\n",
    "    '19be0eaffa3ac7d8eb6784ad9bdbc7d67ed8e619'\n",
    ")"
   ]
  },
  {
   "cell_type": "code",
   "execution_count": 23,
   "metadata": {
    "collapsed": false
   },
   "outputs": [
    {
     "name": "stdout",
     "output_type": "stream",
     "text": [
      "static struct page *no_page_table(struct vm_area_struct *vma,\n",
      "\t\tunsigned int flags)\n",
      "{\n",
      "\t/*\n",
      "\t * When core dumping an enormous anonymous area that nobody\n",
      "\t * has touched so far, we don't want to allocate unnecessary pages or\n",
      "\t * page tables.  Return error instead of NULL to skip handle_mm_fault,\n",
      "\t * then get_dump_page() will return NULL to leave a hole in the dump.\n",
      "\t * But we can only make this optimization where a hole would surely\n",
      "\t * be zero-filled if handle_mm_fault() actually did handle it.\n",
      "\t */\n",
      "\tif ((flags & FOLL_DUMP) && (!vma->vm_ops || !vma->vm_ops->fault))\n",
      "\t\treturn ERR_PTR(-EFAULT);\n",
      "\treturn NULL;\n",
      "}\n",
      "\n",
      "static struct page *follow_page_pte(struct vm_area_struct *vma,\n",
      "\t\tunsigned long address, pmd_t *pmd, unsigned int flags)\n"
     ]
    }
   ],
   "source": [
    "for line in (eval(buggy_dict[674]['patch']['content'])):\n",
    "    print line"
   ]
  },
  {
   "cell_type": "code",
   "execution_count": 14,
   "metadata": {
    "collapsed": false
   },
   "outputs": [
    {
     "data": {
      "text/plain": [
       "[674, 2984, 1994, 14, 36534, 17944, 36314]"
      ]
     },
     "execution_count": 14,
     "metadata": {},
     "output_type": "execute_result"
    }
   ],
   "source": [
    "buggy_dict.keys()\n"
   ]
  },
  {
   "cell_type": "code",
   "execution_count": 25,
   "metadata": {
    "collapsed": false
   },
   "outputs": [
    {
     "name": "stdout",
     "output_type": "stream",
     "text": [
      "674 323\n",
      "2984 369\n",
      "1994 323\n",
      "14 0\n",
      "36534 66541\n",
      "17944 35675\n",
      "36314 66637\n"
     ]
    }
   ],
   "source": [
    "for pid, p in buggy_dict.iteritems():\n",
    "    print \"%d %d\" % (pid, p['score'])"
   ]
  },
  {
   "cell_type": "code",
   "execution_count": null,
   "metadata": {
    "collapsed": true
   },
   "outputs": [],
   "source": []
  }
 ],
 "metadata": {
  "anaconda-cloud": {},
  "kernelspec": {
   "display_name": "Python [conda root]",
   "language": "python",
   "name": "conda-root-py"
  },
  "language_info": {
   "codemirror_mode": {
    "name": "ipython",
    "version": 2
   },
   "file_extension": ".py",
   "mimetype": "text/x-python",
   "name": "python",
   "nbconvert_exporter": "python",
   "pygments_lexer": "ipython2",
   "version": "2.7.12"
  }
 },
 "nbformat": 4,
 "nbformat_minor": 2
}
